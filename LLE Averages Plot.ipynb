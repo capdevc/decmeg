{
 "metadata": {
  "name": "",
  "signature": "sha256:e11b982959ab03b43bea2795c0c592389a595149dd72ee781b43285bea626e75"
 },
 "nbformat": 3,
 "nbformat_minor": 0,
 "worksheets": [
  {
   "cells": [
    {
     "cell_type": "heading",
     "level": 2,
     "metadata": {},
     "source": [
      "Configuration"
     ]
    },
    {
     "cell_type": "markdown",
     "metadata": {},
     "source": [
      "Here you can specify which subject to load and the path to the data files"
     ]
    },
    {
     "cell_type": "code",
     "collapsed": false,
     "input": [
      "subject_id = 1\n",
      "data_path = '/Users/cc/work/decmeg/data/'"
     ],
     "language": "python",
     "metadata": {},
     "outputs": []
    },
    {
     "cell_type": "markdown",
     "metadata": {},
     "source": [
      "Parameters for the LLE routine... number of neighbors and target dimension"
     ]
    },
    {
     "cell_type": "code",
     "collapsed": false,
     "input": [
      "num_nbrs = 10\n",
      "num_dims = 2"
     ],
     "language": "python",
     "metadata": {},
     "outputs": [],
     "prompt_number": 3
    },
    {
     "cell_type": "markdown",
     "metadata": {},
     "source": [
      "###Code"
     ]
    },
    {
     "cell_type": "code",
     "collapsed": false,
     "input": [
      "import sys\n",
      "import numpy as np\n",
      "from sklearn.manifold import locally_linear_embedding as lle\n",
      "from mayavi import mlab\n",
      "from dmutil import TrainSubject\n",
      "\n",
      "# load data\n",
      "subject = TrainSubject(subject_id, data_path=data_path)\n",
      "\n",
      "fig = mlab.figure()\n",
      "X = subject.X\n",
      "Xf = np.mean(subject.X_f, axis=0)\n",
      "Xs = np.mean(subject.X_s, axis=0)\n",
      "\n",
      "X_mean = np.mean(X)\n",
      "X_std = np.std(X)\n",
      "Xf_norm = (Xf - X_mean) / X_std\n",
      "Xs_norm = (Xs - X_mean) / X_std\n",
      "\n",
      "Xa = np.concatenate((Xf_norm, Xs_norm), 0)\n",
      "(p, e) = lle(Xa, num_nbrs, num_dims, method='modified')\n",
      "print('Error in subject {0}: {1}'.format(subject_id, e))\n",
      "\n",
      "x1 = p[:, 0]\n",
      "y1 = p[:, 1]\n",
      "t1 = np.arange(750) % 375 / 375.\n",
      "\n",
      "c = np.concatenate((np.zeros(375), np.ones(375)), 0)\n",
      "\n",
      "mlab.points3d(x1, y1, t1, c,\n",
      "              mode='sphere',\n",
      "              colormap='jet',\n",
      "              scale_factor=0.005,\n",
      "              scale_mode='none')\n",
      "mlab.axes()\n",
      "mlab.show()"
     ],
     "language": "python",
     "metadata": {},
     "outputs": [
      {
       "output_type": "stream",
       "stream": "stdout",
       "text": [
        "Error in subject 1: 0.0329198794943\n"
       ]
      }
     ],
     "prompt_number": 8
    },
    {
     "cell_type": "code",
     "collapsed": false,
     "input": [],
     "language": "python",
     "metadata": {},
     "outputs": []
    }
   ],
   "metadata": {}
  }
 ]
}