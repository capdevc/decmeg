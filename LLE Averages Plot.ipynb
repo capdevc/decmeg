{
 "metadata": {
  "name": "",
  "signature": "sha256:550846716166947c2e60aa59e6f4f31b928228279b3ae0e4c2ff98ab39c6a51a"
 },
 "nbformat": 3,
 "nbformat_minor": 0,
 "worksheets": [
  {
   "cells": [
    {
     "cell_type": "heading",
     "level": 2,
     "metadata": {},
     "source": [
      "Run Once"
     ]
    },
    {
     "cell_type": "markdown",
     "metadata": {},
     "source": [
      "This line downloads dmutil.py from my github repository. This only needs to be done one time, but running it multiple times won't hurt anything."
     ]
    },
    {
     "cell_type": "code",
     "collapsed": false,
     "input": [
      "files = !ls\n",
      "if 'dmutil.py' not in files:\n",
      "    !wget https://raw.githubusercontent.com/capdevc/decmeg/34d89bfaf3b908f2e01c90e07db96393e7c501f5/dmutil.py"
     ],
     "language": "python",
     "metadata": {},
     "outputs": [],
     "prompt_number": 12
    },
    {
     "cell_type": "heading",
     "level": 2,
     "metadata": {},
     "source": [
      "Configuration"
     ]
    },
    {
     "cell_type": "markdown",
     "metadata": {},
     "source": [
      "Here you can specify which subject to load and the path to the data files"
     ]
    },
    {
     "cell_type": "code",
     "collapsed": false,
     "input": [
      "subject_id = 1\n",
      "data_path = '/Users/cc/work/decmeg/data/'"
     ],
     "language": "python",
     "metadata": {},
     "outputs": [],
     "prompt_number": 13
    },
    {
     "cell_type": "markdown",
     "metadata": {},
     "source": [
      "Parameters for the LLE routine... number of neighbors and target dimension"
     ]
    },
    {
     "cell_type": "code",
     "collapsed": false,
     "input": [
      "num_nbrs = 10\n",
      "num_dims = 2"
     ],
     "language": "python",
     "metadata": {},
     "outputs": [],
     "prompt_number": 14
    },
    {
     "cell_type": "heading",
     "level": 2,
     "metadata": {},
     "source": [
      "Code"
     ]
    },
    {
     "cell_type": "markdown",
     "metadata": {},
     "source": [
      "This generates the plot. Unfortunately, since this is a 3d plot using mayavi we can't embed it in the notebook. It will appear as a floating window. Faces are blue points, scrambled are red points."
     ]
    },
    {
     "cell_type": "code",
     "collapsed": false,
     "input": [
      "import sys\n",
      "import numpy as np\n",
      "from sklearn.manifold import locally_linear_embedding as lle\n",
      "from mayavi import mlab\n",
      "from dmutil import TrainSubject"
     ],
     "language": "python",
     "metadata": {},
     "outputs": []
    },
    {
     "cell_type": "code",
     "collapsed": false,
     "input": [
      "# load data\n",
      "subject = TrainSubject(subject_id, data_path=data_path)\n",
      "X = subject.X\n",
      "Xf = np.mean(subject.X_f, axis=0)\n",
      "Xs = np.mean(subject.X_s, axis=0)\n",
      "\n",
      "# normalize the data\n",
      "X_mean = np.mean(X)\n",
      "X_std = np.std(X)\n",
      "Xf_norm = (Xf - X_mean) / X_std\n",
      "Xs_norm = (Xs - X_mean) / X_std\n",
      "\n",
      "# merge faces and scrambleds and perform lle\n",
      "Xa = np.concatenate((Xf_norm, Xs_norm), 0)\n",
      "(p, e) = lle(Xa, num_nbrs, num_dims, method='standard')\n",
      "print('Error in subject {0}: {1}'.format(subject_id, e))\n",
      "\n",
      "# plot\n",
      "x1 = p[:, 0]\n",
      "y1 = p[:, 1]\n",
      "t1 = np.tile(np.linspace(0, 1, X.shape[1]), 2)\n",
      "c = np.concatenate((np.zeros(375), np.ones(375)), 0)\n",
      "mlab.points3d(x1, y1, t1, c,\n",
      "              mode='sphere',\n",
      "              colormap='jet',\n",
      "              scale_factor=0.005,\n",
      "              scale_mode='none')\n",
      "mlab.axes()\n",
      "mlab.show()"
     ],
     "language": "python",
     "metadata": {},
     "outputs": [
      {
       "output_type": "stream",
       "stream": "stdout",
       "text": [
        "Error in subject 1: 3.40260362405e-06\n"
       ]
      }
     ],
     "prompt_number": 22
    }
   ],
   "metadata": {}
  }
 ]
}