{
 "metadata": {
  "name": "",
  "signature": "sha256:95c0fb2d0a61762d41614fcd533ddce631fe876b9dbe3250643a536b8a73f5f0"
 },
 "nbformat": 3,
 "nbformat_minor": 0,
 "worksheets": [
  {
   "cells": [
    {
     "cell_type": "heading",
     "level": 1,
     "metadata": {},
     "source": [
      "Description"
     ]
    },
    {
     "cell_type": "markdown",
     "metadata": {},
     "source": [
      "This code takes the densest regions at each time slice (densest meaning where the trials are most densely clustered) and the splits them into two clusters. It then classifies each trial based on which sets of clusters it is closest to."
     ]
    },
    {
     "cell_type": "heading",
     "level": 1,
     "metadata": {},
     "source": [
      "Run Once"
     ]
    },
    {
     "cell_type": "markdown",
     "metadata": {},
     "source": [
      "This line downloads dmutil.py from my github repository. This only needs to be done one time, but running it multiple times won't hurt anything. If this is to be run outside the ipython notebook, just execute:\n",
      "\n",
      "    wget https://raw.githubusercontent.com/capdevc/decmeg/34d89bfaf3b908f2e01c90e07db96393e7c501f5/dmutil.py\n",
      "\n",
      "at the shell prompt to download dmutil.py"
     ]
    },
    {
     "cell_type": "code",
     "collapsed": false,
     "input": [
      "files = !ls\n",
      "if 'dmutil.py' not in files:\n",
      "    !wget https://raw.githubusercontent.com/capdevc/decmeg/34d89bfaf3b908f2e01c90e07db96393e7c501f5/dmutil.py"
     ],
     "language": "python",
     "metadata": {},
     "outputs": [],
     "prompt_number": 7
    },
    {
     "cell_type": "heading",
     "level": 1,
     "metadata": {},
     "source": [
      "Config"
     ]
    },
    {
     "cell_type": "markdown",
     "metadata": {},
     "source": [
      "* `subject_id`: selects the training subject to load\n",
      "* `data_path`: set to the path to the .npz data files\n",
      "* `sensors`: the sensors to use, a list or slice\n",
      "* `times`: the times to use, also a list or slice\n",
      "* `n_neighbor`: the neighbor number to judge density by\n",
      "* `fraction`: the fraction of densest points to select"
     ]
    },
    {
     "cell_type": "code",
     "collapsed": false,
     "input": [
      "%matplotlib inline\n",
      "data_path = '/Users/cc/work/decmeg/data/'\n",
      "\n",
      "subject_id = 5\n",
      "times = slice(125,None)\n",
      "\n",
      "# sensors is a selection of columns to look at, gotten form the \"Sensor Diffs\" plot\n",
      "sensors = [19, 75, 115, 150, 202, 229, 234, 43, 235, 18, 66, 70, 72, 132, 138, 139, \n",
      "        148, 45, 160, 256, 81, 109, 120, 49, 64, 97, 99, 124, 232, 15]\n",
      "\n",
      "n_neighbor=30\n",
      "fraction=0.2"
     ],
     "language": "python",
     "metadata": {},
     "outputs": [],
     "prompt_number": 8
    },
    {
     "cell_type": "heading",
     "level": 1,
     "metadata": {},
     "source": [
      "Code"
     ]
    },
    {
     "cell_type": "code",
     "collapsed": false,
     "input": [
      "import os\n",
      "import numpy as np\n",
      "import matplotlib.pyplot as plt\n",
      "from scipy.spatial.distance import cdist\n",
      "from sklearn.neighbors import NearestNeighbors\n",
      "from sklearn.cluster import KMeans\n",
      "from dmutil import TrainSubject\n",
      "        \n",
      "def nn_densities(X, n_neighbors=20):\n",
      "    \"\"\"\n",
      "    Calculate densities of trials at each time slice.\n",
      "    \"\"\"\n",
      "    densities = np.zeros((X.shape[1], X.shape[0]))\n",
      "    for i in range(X.shape[1]):\n",
      "        nbrs = NearestNeighbors(n_neighbors=n_neighbors).fit(X[:,i,:])\n",
      "        dist, ind = nbrs.kneighbors(X[:,i,:])\n",
      "        densities[i] = 1./dist[:,-1]\n",
      "    return densities\n",
      "\n",
      "def nn_density_plot(idnum, n_neighbors=15):\n",
      "    s = TrainSubject(idnum)\n",
      "    s_dists = nn_distances(s.X_s, n_neighbors)\n",
      "    f_dists = nn_distances(s.X_f, n_neighbors)\n",
      "    plt.plot(s_dists[:,-1], color='r')\n",
      "    plt.plot(f_dists[:,-1], color='g')\n",
      "    return plt.gca()\n",
      "\n",
      "def get_densest(subject, n_neighbors=20, fraction=0.3):\n",
      "    \"\"\"\n",
      "    Get the top <fraction> points that are in the densest region.\n",
      "    \"\"\"\n",
      "    densities = nn_densities(subject.X, n_neighbors=n_neighbors)\n",
      "    sel_count = int(densities.shape[1] * fraction)\n",
      "    indices = np.argpartition(densities, \n",
      "                              sel_count, axis=1)[:, :sel_count]\n",
      "    return indices\n",
      "\n",
      "def get_centroids(subject, indices):\n",
      "    \"\"\"\n",
      "    Take a selection of points and return two kmeans centroids\n",
      "    for each time slice.\n",
      "    \"\"\"\n",
      "    pts = np.zeros((indices.shape[0], indices.shape[1], subject.X.shape[2]))\n",
      "    for time, trials in enumerate(indices):\n",
      "        pts[time] = subject.X[trials,time,:]\n",
      "    centroids = np.zeros((indices.shape[0], 2, subject.X.shape[2]))\n",
      "    for time, sample in enumerate(pts):\n",
      "        km = KMeans(n_clusters=2)\n",
      "        km.fit(sample)\n",
      "        centroids[time] = km.cluster_centers_\n",
      "    return centroids\n",
      "\n",
      "def label_centroids(centroids):\n",
      "    \"\"\"\n",
      "    This is hacky. Walk through each time slice and label each\n",
      "    pair of centroids to minimize the distance between classes\n",
      "    between times.\n",
      "    \"\"\"\n",
      "    for t in range(1, centroids.shape[0]):\n",
      "        if (np.sum((centroids[t-1,0,:] - centroids[t,0,:]) ** 2) +\n",
      "            np.sum((centroids[t-1,1,:] - centroids[t,1,:]) ** 2)) >\\\n",
      "           (np.sum((centroids[t-1,0,:] - centroids[t,1,:]) ** 2) +\n",
      "            np.sum((centroids[t-1,1,:] - centroids[t,0,:]) ** 2)):\n",
      "            temp = centroids[t,1,:].copy()\n",
      "            centroids[t,1,:] = centroids[t,0,:]\n",
      "            centroids[t,0,:] = temp\n",
      "    return centroids\n",
      "\n",
      "def classify(subject, centroids, flip=False):\n",
      "    \"\"\"\n",
      "    Classify each trial by matching against centroids at each time\n",
      "    slice... take the largest number of matches\n",
      "    \"\"\"\n",
      "    dist0 = np.sum((subject.X - centroids[:,0,:])**2, axis=2)\n",
      "    dist1 = np.sum((subject.X - centroids[:,1,:])**2, axis=2)\n",
      "    diffs = dist0 < dist1\n",
      "    res = np.sum(diffs, axis=1)\n",
      "    half = len(res)/2\n",
      "    split = np.argpartition(res, half)\n",
      "    classes = np.zeros(len(res), dtype=int)\n",
      "    classes[split[:half]] = 1 if not flip else 0\n",
      "    classes[split[half:]] = 0 if not flip else 1\n",
      "    return classes\n",
      "\n",
      "def get_accuracy(subject, classes):\n",
      "    return np.sum(classes == subject.y) / float(len(classes))"
     ],
     "language": "python",
     "metadata": {},
     "outputs": [],
     "prompt_number": 9
    },
    {
     "cell_type": "code",
     "collapsed": false,
     "input": [
      "\n",
      "s = TrainSubject(subject_id, timesel=times, colsel=sensors, data_path=data_path)\n",
      "s.normalize()\n",
      "ind = get_densest(s, n_neighbors=n_neighbor, fraction=fraction)\n",
      "centroids = get_centroids(s, ind)\n",
      "centroids = label_centroids(centroids)\n",
      "classes = classify(s, centroids)\n",
      "get_accuracy(s, classes)"
     ],
     "language": "python",
     "metadata": {},
     "outputs": [
      {
       "metadata": {},
       "output_type": "pyout",
       "prompt_number": 10,
       "text": [
        "0.47781569965870307"
       ]
      }
     ],
     "prompt_number": 10
    },
    {
     "cell_type": "code",
     "collapsed": false,
     "input": [],
     "language": "python",
     "metadata": {},
     "outputs": []
    }
   ],
   "metadata": {}
  }
 ]
}