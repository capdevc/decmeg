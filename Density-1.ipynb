{
 "metadata": {
  "name": "",
  "signature": "sha256:be34a447b1bab3b48f6041ccc1dfd34af7b2f1651a7b712e29a4df2bbf84b15c"
 },
 "nbformat": 3,
 "nbformat_minor": 0,
 "worksheets": [
  {
   "cells": [
    {
     "cell_type": "heading",
     "level": 1,
     "metadata": {},
     "source": [
      "Cluster Execution"
     ]
    },
    {
     "cell_type": "markdown",
     "metadata": {},
     "source": [
      "These two cells are only relevant if we're running in parallel. Otherwise, skip to common\n",
      "\n",
      "On cudahead execute:\n",
      "\n",
      "    ipcluster start --profile=pbs --n 4\n",
      "\n",
      "This will start the ipcluster which we then connext to with the client. Currently, I am using four nodes and all eight cores on each node. For GPU stuff, it may be better to just use four nodes and one core per node. I should look at getting stuff set up with Hydra since there are 30 machines. Unfortunately, they seem to be pretty slammed all the time."
     ]
    },
    {
     "cell_type": "code",
     "collapsed": false,
     "input": [
      "%matplotlib inline\n",
      "import os\n",
      "import numpy as np\n",
      "import matplotlib.pyplot as plt\n",
      "from fn import _\n",
      "from sklearn.neighbors import NearestNeighbors\n",
      "from IPython.parallel import Client\n",
      "\n",
      "def nn_density_plot(idnum, n_neighbors=15):\n",
      "    s = TrainSubject(idnum)\n",
      "    s_dists = nn_distances(s.X_s, n_neighbors)\n",
      "    f_dists = nn_distances(s.X_f, n_neighbors)\n",
      "    plt.plot(s_dists[:,-1], color='r')\n",
      "    plt.plot(f_dists[:,-1], color='g')\n",
      "    \n",
      "\n",
      "rc = Client(profile='pbs',\n",
      "            sshserver='ccapdevi@hydra20.eecs.utk.edu')\n",
      "lv = rc.load_balanced_view()\n",
      "dv = rc[:]\n",
      "rc.ids"
     ],
     "language": "python",
     "metadata": {},
     "outputs": [
      {
       "metadata": {},
       "output_type": "pyout",
       "prompt_number": 2,
       "text": [
        "[0, 1, 2, 3, 4, 5, 6, 7, 8, 9, 10, 11, 12, 13, 14, 15]"
       ]
      }
     ],
     "prompt_number": 2
    },
    {
     "cell_type": "heading",
     "level": 1,
     "metadata": {},
     "source": [
      "Common Code"
     ]
    },
    {
     "cell_type": "code",
     "collapsed": false,
     "input": [
      "from IPython.core.magic import (Magics, magics_class, register_line_cell_magic)\n",
      "def mymap(func, xs):\n",
      "    res = lv.map(func, xs)\n",
      "    res.wait_interactive()\n",
      "    return res.get_dict()\n",
      "\n",
      "ip = get_ipython()\n",
      "try:\n",
      "    rc\n",
      "except NameError:\n",
      "    @register_line_cell_magic\n",
      "    def px(line, cell=None):\n",
      "        if cell is None:\n",
      "            return line\n",
      "        else:\n",
      "            return line, cell\n",
      "    mymap = map"
     ],
     "language": "python",
     "metadata": {},
     "outputs": [],
     "prompt_number": 2
    },
    {
     "cell_type": "heading",
     "level": 4,
     "metadata": {},
     "source": [
      "Config"
     ]
    },
    {
     "cell_type": "markdown",
     "metadata": {},
     "source": [
      "set data_path to the path to the .npz data files"
     ]
    },
    {
     "cell_type": "code",
     "collapsed": false,
     "input": [
      "%%px\n",
      "data_path = '/research/aicip/ccapdevi/decmeg/data/'\n",
      "%matplotlib inline"
     ],
     "language": "python",
     "metadata": {},
     "outputs": [
      {
       "metadata": {},
       "output_type": "pyout",
       "prompt_number": 3,
       "text": [
        "(u'',\n",
        " u\"data_path = '/research/aicip/ccapdevi/decmeg/data/'\\n%matplotlib inline\")"
       ]
      }
     ],
     "prompt_number": 3
    },
    {
     "cell_type": "code",
     "collapsed": false,
     "input": [
      "%%px\n",
      "import os\n",
      "import numpy as np\n",
      "import matplotlib.pyplot as plt\n",
      "from fn import _\n",
      "from sklearn.neighbors import NearestNeighbors\n",
      "\n",
      "class TrainSubject():\n",
      "    \"\"\"A class to hold MEG data about a single training subject\"\"\"\n",
      "    def __init__(self, idnum, timesel=Ellipsis, colsel=Ellipsis):\n",
      "        self.idnum = idnum\n",
      "        npz = np.load(data_path + 'train_subject{0:0>2}.npz'.format(idnum))\n",
      "        self.X = npz['X'][:, timesel, colsel]\n",
      "        self.y = npz['y']\n",
      "        self.X_s = self.X[self.y == 0]\n",
      "        self.X_f = self.X[self.y == 1]\n",
      "        \n",
      "class TestSubject():\n",
      "    \"\"\"A class to hold MEG data about a single test subject\"\"\"\n",
      "    def __init__(self, idnum, timesel=Ellipsis, colsel=Ellipsis):\n",
      "        self.idnum = idnum\n",
      "        npz = np.load(data_path + 'test_subject{0:0>2}.npz'.format(idnum))\n",
      "        self.X = npz['X'][:, timesel, colsel]\n",
      "        \n",
      "def nn_distances(X, n_neighbors=5):\n",
      "    dists = np.zeros((X.shape[1], n_neighbors))\n",
      "    for i in range(X.shape[1]):\n",
      "        nbrs = NearestNeighbors(n_neighbors=n_neighbors).fit(X[:,i,:])\n",
      "        dist, ind = nbrs.kneighbors(X[:,i,:])\n",
      "        dists[i] = np.mean(dist)\n",
      "    return dists\n",
      "\n",
      "def nn_density_plot(idnum, n_neighbors=15):\n",
      "    s = TrainSubject(idnum)\n",
      "    s_dists = nn_distances(s.X_s, n_neighbors)\n",
      "    f_dists = nn_distances(s.X_f, n_neighbors)\n",
      "    plt.plot(s_dists[:,-1], color='r')\n",
      "    plt.plot(f_dists[:,-1], color='g')\n",
      "    return plt.gca()"
     ],
     "language": "python",
     "metadata": {},
     "outputs": []
    },
    {
     "cell_type": "code",
     "collapsed": false,
     "input": [
      "res = mymap(nn_density_plot, range(1,17))\n",
      "%px plt.show()"
     ],
     "language": "python",
     "metadata": {},
     "outputs": [
      {
       "ename": "NameError",
       "evalue": "name 'mymap' is not defined",
       "output_type": "pyerr",
       "traceback": [
        "\u001b[0;31m---------------------------------------------------------------------------\u001b[0m\n\u001b[0;31mNameError\u001b[0m                                 Traceback (most recent call last)",
        "\u001b[0;32m<ipython-input-2-032a7768edbf>\u001b[0m in \u001b[0;36m<module>\u001b[0;34m()\u001b[0m\n\u001b[0;32m----> 1\u001b[0;31m \u001b[0mres\u001b[0m \u001b[0;34m=\u001b[0m \u001b[0mmymap\u001b[0m\u001b[0;34m(\u001b[0m\u001b[0mnn_density_plot\u001b[0m\u001b[0;34m,\u001b[0m \u001b[0mrange\u001b[0m\u001b[0;34m(\u001b[0m\u001b[0;36m1\u001b[0m\u001b[0;34m,\u001b[0m\u001b[0;36m17\u001b[0m\u001b[0;34m)\u001b[0m\u001b[0;34m)\u001b[0m\u001b[0;34m\u001b[0m\u001b[0m\n\u001b[0m\u001b[1;32m      2\u001b[0m \u001b[0mget_ipython\u001b[0m\u001b[0;34m(\u001b[0m\u001b[0;34m)\u001b[0m\u001b[0;34m.\u001b[0m\u001b[0mmagic\u001b[0m\u001b[0;34m(\u001b[0m\u001b[0;34mu'px plt.show()'\u001b[0m\u001b[0;34m)\u001b[0m\u001b[0;34m\u001b[0m\u001b[0m\n",
        "\u001b[0;31mNameError\u001b[0m: name 'mymap' is not defined"
       ]
      }
     ],
     "prompt_number": 2
    },
    {
     "cell_type": "code",
     "collapsed": false,
     "input": [],
     "language": "python",
     "metadata": {},
     "outputs": []
    }
   ],
   "metadata": {}
  }
 ]
}